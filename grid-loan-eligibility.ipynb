{
 "cells": [
  {
   "cell_type": "code",
   "execution_count": 1,
   "id": "629b5c04",
   "metadata": {},
   "outputs": [
    {
     "name": "stderr",
     "output_type": "stream",
     "text": [
      "/Users/isabellajohansson/miniconda3/lib/python3.8/site-packages/scipy/__init__.py:146: UserWarning: A NumPy version >=1.16.5 and <1.23.0 is required for this version of SciPy (detected version 1.24.4\n",
      "  warnings.warn(f\"A NumPy version >={np_minversion} and <{np_maxversion}\"\n"
     ]
    }
   ],
   "source": [
    "import numpy as np\n",
    "import pandas as pd\n",
    "import fastparquet\n",
    "from pandasql import sqldf\n",
    "import matplotlib.pyplot as plt\n",
    "from sklearn.preprocessing import LabelEncoder\n",
    "from collections import Counter\n",
    "import string"
   ]
  },
  {
   "cell_type": "code",
   "execution_count": 2,
   "id": "02baffdf",
   "metadata": {},
   "outputs": [],
   "source": [
    "#Data pre processing: ....copied from before\n",
    "transactions = pd.read_parquet(\"data_science_take_home_transactions.parquet\", engine='pyarrow')\n",
    "advances = pd.read_parquet(\"data_science_take_home_advances.parquet\", engine='pyarrow')\n",
    "\n",
    "###1. Convert 'account_id' to numerical values\n",
    "# Create a copy of the 'account_id' column as 'account_id_string'\n",
    "transactions['account_id_string'] = transactions['account_id'].copy()\n",
    "advances['account_id_string'] = advances['account_id'].copy()\n",
    "\n",
    "label_encoder = LabelEncoder() # Create a label encoder object\n",
    "\n",
    "transactions['account_id'] = label_encoder.fit_transform(transactions['account_id']) # Transform 'account_id' column to numerical values and replace the original column \n",
    "advances['account_id'] = label_encoder.fit_transform(advances['account_id'])\n",
    "\n",
    "###2. Only looking at postivie numbers and ignoring charges (for now?).\n",
    "#Noticed that for payment_channel: \"online\" and \"in-store\" can be filtered out bc they seem to exclude salaries.\n",
    "selected_data = transactions[(transactions['payment_channel'] != 'online') &\n",
    "                             (transactions['payment_channel'] != 'in store') ]#&\n",
    "                             #(transactions['f0_'] > 0)]\n",
    "###3. Lets ignore irrelevant columns: \n",
    "\n",
    "columns_to_remove = ['version', 'currency_code', 'pending', 'removed', 'selected_data', 'city', 'region', 'payment_meta_payment_processor',\n",
    "                    'authorized_date', 'payment_meta_payment_method', 'payment_channel']\n",
    "cleaned_data = selected_data.drop(columns=columns_to_remove, axis=1, errors='ignore')\n",
    "\n",
    "# Let's ensure the 'date' column is converted to a datetime format before using the .dt accessor. \n",
    "cleaned_data['date'] = pd.to_datetime(cleaned_data['date'])\n",
    "\n",
    "# Feature Engineering: Extract features from dates and descriptions\n",
    "cleaned_data['day_of_week'] = cleaned_data['date'].dt.dayofweek\n",
    "cleaned_data['week_number'] = cleaned_data['date'].dt.isocalendar().week\n",
    "cleaned_data['month'] = cleaned_data['date'].dt.month\n",
    "\n",
    "#cleaned_data"
   ]
  },
  {
   "cell_type": "markdown",
   "id": "96d6d675",
   "metadata": {},
   "source": [
    "# Lets analyze distinct accounts to try and predict if they qualify for a loan based on f0_ and dates. \n",
    "\n",
    "# Lets look at: account balance, income stability, spending habits and frequency of transactions...\n",
    "\n",
    "# Lets start by plotting positive f0_ (deposits) and negative f0_ (withdrawls) per month and per week."
   ]
  },
  {
   "cell_type": "code",
   "execution_count": 119,
   "id": "7817c126",
   "metadata": {},
   "outputs": [],
   "source": [
    "#account_ids = [1665, 213, 736, 1633, 141]\n",
    "\n",
    "# Filter transactions for the specified account_id\n",
    "account_data = cleaned_data[cleaned_data['account_id'] ==1665]"
   ]
  },
  {
   "cell_type": "code",
   "execution_count": 120,
   "id": "e058dcb0",
   "metadata": {},
   "outputs": [
    {
     "name": "stdout",
     "output_type": "stream",
     "text": [
      "Minimum date: 2021-11-01 00:00:00\n",
      "Maximum date: 2022-12-30 00:00:00\n",
      "Total time span: 13 months\n"
     ]
    }
   ],
   "source": [
    "print(\"Minimum date:\", account_data['date'].min())\n",
    "print(\"Maximum date:\", account_data['date'].max())\n",
    "from dateutil.relativedelta import relativedelta\n",
    "total_time_span = relativedelta(account_data['date'].max(), account_data['date'].min())\n",
    "total_months = total_time_span.years * 12 + total_time_span.months\n",
    "print(\"Total time span:\", total_months, \"months\")"
   ]
  },
  {
   "cell_type": "markdown",
   "id": "db9391e0",
   "metadata": {},
   "source": [
    "# (1) account balance binned in time - first by month and then by week."
   ]
  },
  {
   "cell_type": "code",
   "execution_count": 121,
   "id": "41fefdb8",
   "metadata": {},
   "outputs": [
    {
     "name": "stdout",
     "output_type": "stream",
     "text": [
      "Number of months where withdrawals exceed deposits: 0\n",
      "Average amount by which withdrawals exceed deposits: nan\n",
      "Percentage of months where withdrawals exceed deposits: 0.0\n"
     ]
    },
    {
     "data": {
      "image/png": "[encoded data removed]",
      "text/plain": [
       "<Figure size 864x432 with 1 Axes>"
      ]
     },
     "metadata": {
      "needs_background": "light"
     },
     "output_type": "display_data"
    }
   ],
   "source": [
    "import numpy as np\n",
    "import matplotlib.pyplot as plt\n",
    "\n",
    "# Assuming 'account_data' is your DataFrame containing the transactional data\n",
    "\n",
    "# Separate withdrawals and deposits\n",
    "withdrawals = account_data[account_data['f0_'] < 0]['f0_'].abs()\n",
    "deposits = account_data[account_data['f0_'] > 0]['f0_'].abs()\n",
    "\n",
    "# Group the data by month and calculate the sum of absolute values of withdrawals and deposits\n",
    "withdrawals_monthly = withdrawals.groupby(account_data['date'].dt.to_period('M')).sum()\n",
    "deposits_monthly = deposits.groupby(account_data['date'].dt.to_period('M')).sum()\n",
    "\n",
    "# Align the two DataFrames on the index\n",
    "withdrawals_monthly, deposits_monthly = withdrawals_monthly.align(deposits_monthly, fill_value=0)\n",
    "\n",
    "# Create positions for the bars\n",
    "months = withdrawals_monthly.index.astype(str)\n",
    "bar_width = 0.35\n",
    "index = np.arange(len(months))\n",
    "\n",
    "# Plot a histogram for absolute values of withdrawals and deposits\n",
    "fig, ax = plt.subplots(figsize=(12, 6))  # Adjusted figure size for better visualization\n",
    "\n",
    "# Plot absolute values of withdrawals\n",
    "ax.bar(index, withdrawals_monthly, width=bar_width, color='red', alpha=0.7, label='Withdrawals')\n",
    "# Plot absolute values of deposits next to withdrawals\n",
    "ax.bar(index + bar_width, deposits_monthly, width=bar_width, color='green', alpha=0.7, label='Deposits')\n",
    "\n",
    "# Calculate the difference between withdrawals and deposits for each month where withdrawals exceed deposits\n",
    "excess_differences = (withdrawals_monthly - deposits_monthly)[withdrawals_monthly > deposits_monthly]\n",
    "\n",
    "# Print the number of months where withdrawals exceed deposits\n",
    "num_exceeding_months = np.sum(withdrawals_monthly > deposits_monthly)\n",
    "print(\"Number of months where withdrawals exceed deposits:\", num_exceeding_months)\n",
    "\n",
    "# Print the average amount by which withdrawals exceed deposits\n",
    "average_excess = excess_differences.mean()\n",
    "print(\"Average amount by which withdrawals exceed deposits:\", average_excess)\n",
    "\n",
    "total_months = len(withdrawals_monthly)\n",
    "percent_exceeding_months = (num_exceeding_months / total_months) * 100\n",
    "print(\"Percentage of months where withdrawals exceed deposits:\", percent_exceeding_months)\n",
    "\n",
    "\n",
    "# Add a symbol on months where withdrawals exceed deposits\n",
    "for i, (withdrawal, deposit) in enumerate(zip(withdrawals_monthly, deposits_monthly)):\n",
    "    if withdrawal > deposit:\n",
    "        ax.text(i + bar_width / 2, max(withdrawal, deposit), '*', ha='center', va='bottom', color='black', fontsize=25)\n",
    "\n",
    "# Customize the plot\n",
    "ax.set_title('Absolute Values of Withdrawals and Deposits per Month for given account')\n",
    "ax.set_xlabel('Month')\n",
    "ax.set_ylabel('Absolute Amount')\n",
    "ax.set_xticks(index + bar_width / 2)\n",
    "ax.set_xticklabels(months, rotation=90)  # Rotate x-axis tick labels by 90 degrees for readability\n",
    "\n",
    "# Add a label in the legend for \"Withdrawals exceed Deposits\"\n",
    "ax.legend(['Withdrawals', 'Deposits', 'Withdrawals > Deposits'])\n",
    "\n",
    "plt.tight_layout()\n",
    "plt.show()\n",
    "\n"
   ]
  },
  {
   "cell_type": "code",
   "execution_count": 122,
   "id": "7babedde",
   "metadata": {},
   "outputs": [
    {
     "name": "stdout",
     "output_type": "stream",
     "text": [
      "Number of weeks where withdrawals exceed deposits: 3\n",
      "Average amount by which withdrawals exceed deposits: 184.93666666666664\n",
      "Percentage of weeks where withdrawals exceed deposits: 4.918032786885246\n"
     ]
    },
    {
     "data": {
      "image/png": "[encoded data removed]",
      "text/plain": [
       "<Figure size 864x432 with 1 Axes>"
      ]
     },
     "metadata": {
      "needs_background": "light"
     },
     "output_type": "display_data"
    }
   ],
   "source": [
    "# Separate withdrawals and deposits\n",
    "withdrawals = account_data[account_data['f0_'] < 0]['f0_'].abs()\n",
    "deposits = account_data[account_data['f0_'] > 0]['f0_'].abs()\n",
    "\n",
    "# Group the data by week and calculate the sum of absolute values of withdrawals and deposits\n",
    "withdrawals_weekly = withdrawals.groupby(account_data['date'].dt.to_period('W')).sum()\n",
    "deposits_weekly = deposits.groupby(account_data['date'].dt.to_period('W')).sum()\n",
    "\n",
    "# Align the two DataFrames on the index\n",
    "withdrawals_weekly, deposits_weekly = withdrawals_weekly.align(deposits_weekly, fill_value=0)\n",
    "\n",
    "# Create positions for the bars\n",
    "weeks = withdrawals_weekly.index.astype(str)\n",
    "bar_width = 0.35\n",
    "index = np.arange(len(weeks))\n",
    "\n",
    "# Plot a histogram for absolute values of withdrawals and deposits\n",
    "fig, ax = plt.subplots(figsize=(12, 6))  # Adjusted figure size for better visualization\n",
    "\n",
    "# Plot absolute values of withdrawals\n",
    "ax.bar(index, withdrawals_weekly, width=bar_width, color='red', alpha=0.7, label='Withdrawals')\n",
    "# Plot absolute values of deposits next to withdrawals\n",
    "ax.bar(index + bar_width, deposits_weekly, width=bar_width, color='green', alpha=0.7, label='Deposits')\n",
    "\n",
    "# Calculate the difference between withdrawals and deposits for each week where withdrawals exceed deposits\n",
    "excess_differences = (withdrawals_weekly - deposits_weekly)[withdrawals_weekly > deposits_weekly]\n",
    "\n",
    "# Print the average amount by which withdrawals exceed deposits\n",
    "num_exceeding_weeks = np.sum(withdrawals_weekly > deposits_weekly)\n",
    "print(\"Number of weeks where withdrawals exceed deposits:\", num_exceeding_weeks)\n",
    "\n",
    "average_excess = excess_differences.mean()\n",
    "print(\"Average amount by which withdrawals exceed deposits:\", average_excess)\n",
    "\n",
    "# Print the percentage of weeks where withdrawals exceed deposits\n",
    "total_weeks = len(withdrawals_weekly)\n",
    "percent_exceeding_weeks = (num_exceeding_weeks / total_weeks) * 100\n",
    "print(\"Percentage of weeks where withdrawals exceed deposits:\", percent_exceeding_weeks)\n",
    "\n",
    "\n",
    "\n",
    "# Add a symbol on weeks where withdrawals exceed deposits\n",
    "for i, (withdrawal, deposit) in enumerate(zip(withdrawals_weekly, deposits_weekly)):\n",
    "    if withdrawal > deposit:\n",
    "        ax.text(i + bar_width / 2, max(withdrawal, deposit), '*', ha='center', va='bottom', color='black', fontsize=25)\n",
    "\n",
    "# Customize the plot\n",
    "ax.set_title('Absolute Values of Withdrawals and Deposits per Week for given account')\n",
    "ax.set_xlabel('Week')\n",
    "ax.set_ylabel('Absolute Amount')\n",
    "ax.set_xticks(index + bar_width / 2)\n",
    "ax.set_xticklabels(weeks, rotation=90)  # Rotate x-axis tick labels by 90 degrees for readability\n",
    "\n",
    "# Add a label in the legend for \"Withdrawals exceed Deposits\"\n",
    "ax.legend(['Withdrawals', 'Deposits', 'Withdrawals > Deposits'])\n",
    "\n",
    "plt.tight_layout()\n",
    "plt.show()"
   ]
  },
  {
   "cell_type": "code",
   "execution_count": 123,
   "id": "8bb2226f",
   "metadata": {},
   "outputs": [
    {
     "name": "stdout",
     "output_type": "stream",
     "text": [
      "Weeks with withdrawls > deposit\n",
      "Week: 2022-03-14 - 2022-03-20\n",
      "Week: 2022-10-10 - 2022-10-16\n",
      "Week: 2022-11-21 - 2022-11-27\n"
     ]
    }
   ],
   "source": [
    "# Group the data by week and calculate the sum of f0_ values for each week\n",
    "weekly_net_f0 = account_data.groupby(account_data['date'].dt.to_period('W'))['f0_'].sum()\n",
    "\n",
    "# Filter the weeks where the net f0_ value is negative\n",
    "negative_weeks = weekly_net_f0[weekly_net_f0 < 0]\n",
    "\n",
    "# Print the dates corresponding to the negative net f0_ weeks\n",
    "print(\"Weeks with withdrawls > deposit\")\n",
    "for week_start_date in negative_weeks.index.to_timestamp():\n",
    "    week_end_date = week_start_date + pd.DateOffset(days=6)  # Assuming weeks end on Sunday\n",
    "    print(\"Week:\", week_start_date.strftime('%Y-%m-%d'), \"-\", week_end_date.strftime('%Y-%m-%d'))"
   ]
  },
  {
   "cell_type": "markdown",
   "id": "8c8b2068",
   "metadata": {},
   "source": [
    "## We may also look some averages.. if we notice red flags"
   ]
  },
  {
   "cell_type": "code",
   "execution_count": 124,
   "id": "8c6640df",
   "metadata": {},
   "outputs": [
    {
     "name": "stdout",
     "output_type": "stream",
     "text": [
      "Average Monthly Income: 4009.3514285714286\n",
      "Standard Deviation of Income Amounts: 295.13403789813526\n",
      "Frequency of Income Deposits (per month): 25.428571428571427\n",
      "Income exceeds expenses by: 51720.81\n"
     ]
    }
   ],
   "source": [
    "# Identify income transactions (assuming credits represent income)\n",
    "income_transactions = account_data[account_data['f0_'] > 0]\n",
    "\n",
    "# Calculate average monthly income\n",
    "total_income = income_transactions['f0_'].sum()\n",
    "num_months = len(income_transactions['date'].dt.to_period('M').unique())\n",
    "average_monthly_income = total_income / num_months\n",
    "\n",
    "# Calculate standard deviation of income amounts\n",
    "income_std_dev = income_transactions['f0_'].std()\n",
    "# Calculate frequency of income deposits (assuming monthly frequency)\n",
    "num_income_deposits = len(income_transactions)\n",
    "num_months = len(income_transactions['date'].dt.to_period('M').unique())\n",
    "income_frequency = num_income_deposits / num_months\n",
    "\n",
    "\n",
    "expense_transactions = account_transactions[account_transactions['f0_'] < 0]\n",
    "total_expenses = expense_transactions['f0_'].sum()\n",
    "\n",
    "# Print results\n",
    "print(\"Average Monthly Income:\", average_monthly_income)\n",
    "print(\"Standard Deviation of Income Amounts:\", income_std_dev)\n",
    "print(\"Frequency of Income Deposits (per month):\", income_frequency)\n",
    "\n",
    "# Compare income to expenses\n",
    "if total_income > abs(total_expenses):\n",
    "    print(\"Income exceeds expenses by:\", total_income - abs(total_expenses))\n",
    "elif total_income < abs(total_expenses):\n",
    "    print(\"Expenses exceed income by:\", abs(total_expenses) - total_income)\n",
    "else:\n",
    "    print(\"Income equals expenses\")"
   ]
  },
  {
   "cell_type": "code",
   "execution_count": null,
   "id": "b4ecfc88",
   "metadata": {},
   "outputs": [],
   "source": []
  },
  {
   "cell_type": "markdown",
   "id": "39253193",
   "metadata": {},
   "source": [
    "# Observations:\n",
    "## - Account 1665: balance seems to be stable making this person eligble for a loan. no red flags\n",
    "\n",
    "## - Accont 213: this account seems to have \"unhealty\" spending habbits. Red flags in terms of Percentage of weeks where withdrawals exceed deposits: 57%\n",
    "\n",
    "## - Account 736 - looks stable on monthly basis but not weekly.\n",
    "\n",
    "## - Account 1633 - stable\n",
    "\n",
    "\n",
    "## Add month to week ratio? Averge monthly income-to-income exceeds expenses by-ratio...\n",
    "\n",
    "## if  (Weeks with withdrawls > deposit) >> (Months with withdrawls > deposit) it probalby just means that they are paid on a monthey basis\n",
    "\n",
    "### Might want to ignore outliers? (For ex: A one time large deposit may misrepresent account holders overall average) \n",
    "\n",
    "### Add minimum data requered (say 6 months old account?)\n",
    "\n",
    "### Next: make a decision tree to classify loan eligbility...\n",
    "\n",
    "### In terms of spending--Do we accsess \"Merchant Category Codes (MCCs)\"? https://stripe.com/docs/issuing/categories or are these the codes in the names? These could help us evalaue  spending habbits. \n"
   ]
  },
  {
   "cell_type": "code",
   "execution_count": null,
   "id": "e1d57554",
   "metadata": {},
   "outputs": [],
   "source": []
  },
  {
   "cell_type": "code",
   "execution_count": null,
   "id": "bf221e68",
   "metadata": {},
   "outputs": [],
   "source": []
  },
  {
   "cell_type": "code",
   "execution_count": null,
   "id": "07ce30c9",
   "metadata": {},
   "outputs": [],
   "source": []
  },
  {
   "cell_type": "code",
   "execution_count": null,
   "id": "1c4f8e48",
   "metadata": {},
   "outputs": [],
   "source": []
  },
  {
   "cell_type": "code",
   "execution_count": null,
   "id": "9fd623cd",
   "metadata": {},
   "outputs": [],
   "source": []
  },
  {
   "cell_type": "code",
   "execution_count": null,
   "id": "bdf582d4",
   "metadata": {},
   "outputs": [],
   "source": []
  },
  {
   "cell_type": "code",
   "execution_count": null,
   "id": "865e8c01",
   "metadata": {},
   "outputs": [],
   "source": []
  },
  {
   "cell_type": "code",
   "execution_count": null,
   "id": "60736e7a",
   "metadata": {},
   "outputs": [],
   "source": []
  },
  {
   "cell_type": "code",
   "execution_count": null,
   "id": "1e75e407",
   "metadata": {},
   "outputs": [],
   "source": []
  },
  {
   "cell_type": "code",
   "execution_count": null,
   "id": "336c8d7d",
   "metadata": {},
   "outputs": [],
   "source": []
  },
  {
   "cell_type": "code",
   "execution_count": null,
   "id": "9d6750d2",
   "metadata": {},
   "outputs": [],
   "source": []
  },
  {
   "cell_type": "code",
   "execution_count": null,
   "id": "05003195",
   "metadata": {},
   "outputs": [],
   "source": []
  },
  {
   "cell_type": "code",
   "execution_count": null,
   "id": "f4452ab4",
   "metadata": {},
   "outputs": [],
   "source": []
  },
  {
   "cell_type": "code",
   "execution_count": null,
   "id": "8e6fdc54",
   "metadata": {
    "collapsed": true
   },
   "outputs": [],
   "source": []
  },
  {
   "cell_type": "code",
   "execution_count": null,
   "id": "5eba3119",
   "metadata": {},
   "outputs": [],
   "source": []
  },
  {
   "cell_type": "code",
   "execution_count": null,
   "id": "47824472",
   "metadata": {},
   "outputs": [],
   "source": []
  },
  {
   "cell_type": "code",
   "execution_count": null,
   "id": "afa00d0e",
   "metadata": {},
   "outputs": [],
   "source": []
  },
  {
   "cell_type": "code",
   "execution_count": null,
   "id": "6057f997",
   "metadata": {},
   "outputs": [],
   "source": []
  },
  {
   "cell_type": "code",
   "execution_count": null,
   "id": "cb3a518d",
   "metadata": {},
   "outputs": [],
   "source": []
  },
  {
   "cell_type": "code",
   "execution_count": null,
   "id": "4b225dab",
   "metadata": {},
   "outputs": [],
   "source": []
  },
  {
   "cell_type": "code",
   "execution_count": null,
   "id": "1783fcf3",
   "metadata": {},
   "outputs": [],
   "source": []
  },
  {
   "cell_type": "code",
   "execution_count": null,
   "id": "b838c54d",
   "metadata": {},
   "outputs": [],
   "source": []
  },
  {
   "cell_type": "code",
   "execution_count": null,
   "id": "09453e6f",
   "metadata": {},
   "outputs": [],
   "source": []
  },
  {
   "cell_type": "code",
   "execution_count": null,
   "id": "64c341f8",
   "metadata": {},
   "outputs": [],
   "source": []
  },
  {
   "cell_type": "code",
   "execution_count": null,
   "id": "c8ba4abd",
   "metadata": {},
   "outputs": [],
   "source": []
  },
  {
   "cell_type": "code",
   "execution_count": null,
   "id": "4333306d",
   "metadata": {},
   "outputs": [],
   "source": []
  },
  {
   "cell_type": "code",
   "execution_count": null,
   "id": "81889090",
   "metadata": {},
   "outputs": [],
   "source": []
  },
  {
   "cell_type": "code",
   "execution_count": null,
   "id": "e1ca453b",
   "metadata": {},
   "outputs": [],
   "source": []
  },
  {
   "cell_type": "code",
   "execution_count": null,
   "id": "c6700ded",
   "metadata": {},
   "outputs": [],
   "source": []
  },
  {
   "cell_type": "code",
   "execution_count": null,
   "id": "07c18dee",
   "metadata": {},
   "outputs": [],
   "source": []
  },
  {
   "cell_type": "code",
   "execution_count": null,
   "id": "a43f72b4",
   "metadata": {},
   "outputs": [],
   "source": []
  },
  {
   "cell_type": "code",
   "execution_count": null,
   "id": "54c9ecc7",
   "metadata": {},
   "outputs": [],
   "source": []
  },
  {
   "cell_type": "code",
   "execution_count": null,
   "id": "9c205a3a",
   "metadata": {},
   "outputs": [],
   "source": []
  },
  {
   "cell_type": "code",
   "execution_count": null,
   "id": "48a0358c",
   "metadata": {},
   "outputs": [],
   "source": []
  },
  {
   "cell_type": "code",
   "execution_count": null,
   "id": "6b4245a3",
   "metadata": {},
   "outputs": [],
   "source": []
  },
  {
   "cell_type": "code",
   "execution_count": null,
   "id": "bdd2dd0e",
   "metadata": {},
   "outputs": [],
   "source": []
  },
  {
   "cell_type": "code",
   "execution_count": null,
   "id": "6ba67265",
   "metadata": {},
   "outputs": [],
   "source": []
  }
 ],
 "metadata": {
  "kernelspec": {
   "display_name": "Python 3 (ipykernel)",
   "language": "python",
   "name": "python3"
  },
  "language_info": {
   "codemirror_mode": {
    "name": "ipython",
    "version": 3
   },
   "file_extension": ".py",
   "mimetype": "text/x-python",
   "name": "python",
   "nbconvert_exporter": "python",
   "pygments_lexer": "ipython3",
   "version": "3.8.3"
  }
 },
 "nbformat": 4,
 "nbformat_minor": 5
}
